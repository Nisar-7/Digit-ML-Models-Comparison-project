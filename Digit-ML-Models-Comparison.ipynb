{
 "cells": [
  {
   "cell_type": "markdown",
   "id": "1c179e4e",
   "metadata": {},
   "source": [
    "## Importing :"
   ]
  },
  {
   "cell_type": "code",
   "execution_count": null,
   "id": "c0bc1ddf",
   "metadata": {},
   "outputs": [],
   "source": [
    "from sklearn.datasets import load_digits   \n",
    "import matplotlib.pylab as plt\n",
    "from sklearn.model_selection import train_test_split\n",
    "from sklearn.preprocessing import MinMaxScaler\n",
    "from sklearn.metrics import recall_score,accuracy_score,precision_score\n",
    "from sklearn.ensemble import RandomForestClassifier\n",
    "from sklearn.svm import SVC\n",
    "from sklearn.neural_network import MLPClassifier\n",
    "from sklearn.neighbors import KNeighborsClassifier\n",
    "from sklearn.decomposition import PCA\n",
    "\n"
   ]
  },
  {
   "cell_type": "markdown",
   "id": "ddfb12a5",
   "metadata": {},
   "source": [
    "## Load Data and split the train and test Data :"
   ]
  },
  {
   "cell_type": "code",
   "execution_count": null,
   "metadata": {},
   "outputs": [],
   "source": [
    "\n",
    "digites=load_digits()\n",
    "x_train,x_test,y_train,y_test = train_test_split(digites.data,digites.target,test_size=0.3)\n"
   ]
  },
  {
   "cell_type": "markdown",
   "id": "48119e4a",
   "metadata": {},
   "source": [
    "## Preprocessing :"
   ]
  },
  {
   "cell_type": "code",
   "execution_count": null,
   "id": "d98dcb5c",
   "metadata": {},
   "outputs": [],
   "source": [
    "scaller=MinMaxScaler()\n",
    "x_train=scaller.fit_transform(x_train) \n",
    "x_test=scaller.transform(x_test) \n"
   ]
  },
  {
   "cell_type": "markdown",
   "id": "0e06c73d",
   "metadata": {},
   "source": [
    "## PCA :"
   ]
  },
  {
   "cell_type": "code",
   "execution_count": null,
   "metadata": {},
   "outputs": [],
   "source": [
    "\n",
    "pca=PCA(n_components=32) \n",
    "x_train=pca.fit_transform(x_train)\n",
    "x_test=pca.transform(x_test)"
   ]
  },
  {
   "cell_type": "markdown",
   "id": "93dcc9dc",
   "metadata": {},
   "source": [
    "## Caculate the matric :"
   ]
  },
  {
   "cell_type": "code",
   "execution_count": null,
   "id": "bea6b9df",
   "metadata": {},
   "outputs": [],
   "source": [
    "def calculat_matrix(y_train,y_test,pred_x_train,pred_x_test):  \n",
    "    acc_train=accuracy_score(y_true=y_train,y_pred=pred_x_train)\n",
    "    acc_test=accuracy_score(y_test,pred_x_test)\n",
    "    p=precision_score(y_true=y_test,y_pred=pred_x_test,average='weighted')\n",
    "    r=recall_score(y_true=y_test,y_pred=pred_x_test,average='weighted')\n",
    "\n",
    "    print(f\"acc_tran=> {acc_train} - acc_test=> {acc_test} - presion=> {p} - recall=>{r}\")\n",
    "\n",
    "    return acc_train,acc_test,p,r "
   ]
  },
  {
   "cell_type": "markdown",
   "id": "4b843b2b",
   "metadata": {},
   "source": [
    "## Random Forest :"
   ]
  },
  {
   "cell_type": "code",
   "execution_count": null,
   "metadata": {},
   "outputs": [],
   "source": [
    "rf=RandomForestClassifier(max_depth=128,n_estimators=256)\n",
    "rf.fit(x_train,y_train)\n",
    "\n",
    "pred_x_train=rf.predict(x_train)\n",
    "pred_x_test=rf.predict(x_test)\n",
    "\n",
    "acc_train_rf,acc_test_rf,p_rf,r_rf = calculat_matrix(y_train,y_test,pred_x_train,pred_x_test)"
   ]
  },
  {
   "cell_type": "markdown",
   "id": "9160da5c",
   "metadata": {},
   "source": [
    "## SVM :"
   ]
  },
  {
   "cell_type": "code",
   "execution_count": null,
   "id": "c8902295",
   "metadata": {},
   "outputs": [],
   "source": [
    "\n",
    "svm=SVC(kernel='linear')   \n",
    "svm.fit(x_train,y_train)\n",
    "\n",
    "\n",
    "pred_x_train=svm.predict(x_train)\n",
    "pred_x_test=svm.predict(x_test)\n",
    "\n",
    "acc_train_svm,acc_test_svm,p_svm,r_svm = calculat_matrix(y_train,y_test,pred_x_train,pred_x_test)"
   ]
  },
  {
   "cell_type": "markdown",
   "id": "bd64024f",
   "metadata": {},
   "source": [
    "## ANN :"
   ]
  },
  {
   "cell_type": "code",
   "execution_count": null,
   "id": "7c0b7e22",
   "metadata": {},
   "outputs": [],
   "source": [
    "ann=MLPClassifier(hidden_layer_sizes=256,batch_size=64,solver='adam',learning_rate='adaptive')\n",
    "ann.fit(x_train,y_train)\n",
    "\n",
    "pred_x_train=ann.predict(x_train)\n",
    "pred_x_test=ann.predict(x_test)\n",
    "\n",
    "acc_train_ann,acc_test_ann,p_ann,r_ann = calculat_matrix(y_train,y_test,pred_x_train,pred_x_test)"
   ]
  },
  {
   "cell_type": "markdown",
   "id": "8d7de016",
   "metadata": {},
   "source": [
    "## Compersion :"
   ]
  },
  {
   "cell_type": "code",
   "execution_count": null,
   "id": "107d0301",
   "metadata": {},
   "outputs": [],
   "source": [
    "acc_train=[acc_train_svm,acc_train_rf,acc_train_ann]\n",
    "title = [\"RF\",\"SVM\",\"ANN\"]\n",
    "colors=[\"black\",\"yellow\",\"blue\"]\n",
    "plt.bar(title,acc_train,color=colors)\n",
    "plt.grid()\n",
    "plt.show()\n"
   ]
  },
  {
   "cell_type": "markdown",
   "id": "f3785a64",
   "metadata": {},
   "source": [
    "## Test Models :"
   ]
  },
  {
   "cell_type": "code",
   "execution_count": null,
   "id": "850472b1",
   "metadata": {},
   "outputs": [],
   "source": [
    "acc_test=[acc_test_svm,acc_test_rf,acc_test_ann]\n",
    "title = [\"RF\",\"SVM\",\"ANN\"]\n",
    "colors=[\"black\",\"yellow\",\"blue\"]\n",
    "plt.bar(title,acc_test,color=colors)\n",
    "plt.grid()\n",
    "plt.show()"
   ]
  }
 ],
 "metadata": {
  "kernelspec": {
   "display_name": "Python 3",
   "language": "python",
   "name": "python3"
  },
  "language_info": {
   "name": "python",
   "version": "3.13.5"
  }
 },
 "nbformat": 4,
 "nbformat_minor": 5
}
